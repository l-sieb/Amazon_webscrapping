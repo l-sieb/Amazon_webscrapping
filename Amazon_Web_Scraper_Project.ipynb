{
 "cells": [
  {
   "cell_type": "code",
   "execution_count": 2,
   "id": "fd0302c1",
   "metadata": {},
   "outputs": [],
   "source": [
    "# import libraries\n",
    "\n",
    "from bs4 import BeautifulSoup as BS\n",
    "import requests as rq\n",
    "import time\n",
    "import datetime"
   ]
  },
  {
   "cell_type": "code",
   "execution_count": 61,
   "id": "7cb20c9c",
   "metadata": {
    "scrolled": false
   },
   "outputs": [
    {
     "name": "stdout",
     "output_type": "stream",
     "text": [
      "\n",
      "            Kindle Paperwhite Signature Edition (32 Go) | Avec écran 6,8\", charge sans fil et réglage automatique de l'éclairage avant | Sans publicités\n",
      "           \n",
      "\n",
      "             4 108 évaluations\n",
      "            \n",
      "\n",
      "\n",
      "                4,7 sur 5 étoiles\n",
      "               \n",
      "\n",
      "\n",
      "                         144,99€\n",
      "                        \n",
      "\n",
      "            -24 %\n",
      "           \n"
     ]
    }
   ],
   "source": [
    "# Connect to website\n",
    "\n",
    "URL = 'https://www.amazon.fr/kindle-paperwhite-signature-edition-32-go-avec-ecran-68-charge-sans-fil-et-reglage-automatique-de-leclairage-avant/dp/B08N2QK2TG/ref=sr_1_1?crid=3OP5USG7CIBW6&keywords=kindle+paperwhite+2023&qid=1680797943&s=amazon-devices&sprefix=kindle%2Camazon-devices%2C274&sr=1-1'\n",
    "\n",
    "\n",
    "headers = {\"User-Agent\": \"Mozilla/5.0 (Windows NT 10.0; Win64; x64) AppleWebKit/537.36 (KHTML, like Gecko) Chrome/111.0.0.0 Safari/537.36\", \"Accept-Encoding\":\"gzip, deflate\", \"Accept\":\"text/html,application/xhtml+xml,application/xml;q=0.9,*/*;q=0.8\", \"DNT\":\"1\",\"Connection\":\"close\", \"Upgrade-Insecure-Requests\":\"1\"}\n",
    "\n",
    "page = rq.get(URL, headers=headers)\n",
    "\n",
    "soup1 = BS(page.content, \"html.parser\")\n",
    "soup2 = BS(soup1.prettify(), 'html.parser')\n",
    "\n",
    "title = soup2.find(id='productTitle').get_text()\n",
    "review = soup2.find(id='acrCustomerReviewText').get_text()\n",
    "ratings = soup2.find(class_=\"a-icon a-icon-star a-star-4-5\").get_text()\n",
    "price = soup2.find(class_=\"a-offscreen\").get_text()\n",
    "savings = soup2.find(class_=\"a-size-large a-color-price savingPriceOverride aok-align-center reinventPriceSavingsPercentageMargin savingsPercentage\").get_text()\n",
    "\n",
    "print(title)\n",
    "print(review)\n",
    "print(ratings)\n",
    "print(price)\n",
    "print(savings)\n"
   ]
  },
  {
   "cell_type": "code",
   "execution_count": 62,
   "id": "b4740743",
   "metadata": {},
   "outputs": [],
   "source": [
    "# clean\n",
    "title = title.strip()\n",
    "\n",
    "review = str(review)\n",
    "review = review.strip()\n",
    "\n",
    "ratings = str(ratings)\n",
    "ratings = ratings.strip()\n",
    "\n",
    "price = str(price)\n",
    "price = price.strip()\n",
    "\n",
    "savings = savings.strip()"
   ]
  },
  {
   "cell_type": "code",
   "execution_count": 63,
   "id": "2dd3252c",
   "metadata": {
    "scrolled": false
   },
   "outputs": [
    {
     "name": "stdout",
     "output_type": "stream",
     "text": [
      "Kindle Paperwhite Signature Edition (32 Go) | Avec écran 6,8\", charge sans fil et réglage automatique de l'éclairage avant | Sans publicités\n",
      "4 108 évaluations\n",
      "4,7 sur 5 étoiles\n",
      "144,99€\n",
      "-24 %\n"
     ]
    }
   ],
   "source": [
    "print(title)\n",
    "print(review)\n",
    "print(ratings)\n",
    "print(price)\n",
    "print(savings)"
   ]
  },
  {
   "cell_type": "code",
   "execution_count": 57,
   "id": "acf2ad14",
   "metadata": {},
   "outputs": [
    {
     "name": "stdout",
     "output_type": "stream",
     "text": [
      "2023-04-07\n"
     ]
    }
   ],
   "source": [
    "# Data stamp to know when I collected the data\n",
    "\n",
    "today = datetime.date.today()\n",
    "print(today)"
   ]
  },
  {
   "cell_type": "code",
   "execution_count": 64,
   "id": "5a5f1688",
   "metadata": {},
   "outputs": [],
   "source": [
    "import csv\n",
    "\n",
    "header = ['Title','Price','Savings','Ratings','Review','Date']\n",
    "data = [title, price, savings, ratings, review, today]\n",
    "\n",
    "with open('AmazonWebScrapper_Dataset.csv','w',newline='',encoding='UTF8') as f:\n",
    "    writer = csv.writer(f)\n",
    "    writer.writerow(header)\n",
    "    writer.writerow(data)"
   ]
  },
  {
   "cell_type": "code",
   "execution_count": 65,
   "id": "6198fc05",
   "metadata": {},
   "outputs": [
    {
     "name": "stdout",
     "output_type": "stream",
     "text": [
      "                                               Title    Price Savings  \\\n",
      "0  Kindle Paperwhite Signature Edition (32 Go) | ...  144,99€   -24 %   \n",
      "\n",
      "             Ratings             Review        Date  \n",
      "0  4,7 sur 5 étoiles  4 108 évaluations  2023-04-07  \n"
     ]
    }
   ],
   "source": [
    "import pandas as pd\n",
    "\n",
    "df = pd.read_csv(r'C:\\Users\\leasi\\AmazonWebScrapper_Dataset.csv')\n",
    "print(df)"
   ]
  },
  {
   "cell_type": "code",
   "execution_count": 66,
   "id": "52116a65",
   "metadata": {},
   "outputs": [],
   "source": [
    "# Now we are appending the data to the csv to track the evolution of prices for exemple\n",
    "\n",
    "with open('AmazonWebScrapper_Dataset.csv','a+',newline='',encoding='UTF8') as f:\n",
    "    writer = csv.writer(f)\n",
    "    writer.writerow(data)"
   ]
  },
  {
   "cell_type": "code",
   "execution_count": 67,
   "id": "b0b68a47",
   "metadata": {},
   "outputs": [],
   "source": [
    "# Automate\n",
    "def check_price():\n",
    "    URL = 'https://www.amazon.fr/kindle-paperwhite-signature-edition-32-go-avec-ecran-68-charge-sans-fil-et-reglage-automatique-de-leclairage-avant/dp/B08N2QK2TG/ref=sr_1_1?crid=3OP5USG7CIBW6&keywords=kindle+paperwhite+2023&qid=1680797943&s=amazon-devices&sprefix=kindle%2Camazon-devices%2C274&sr=1-1'\n",
    "\n",
    "\n",
    "    headers = {\"User-Agent\": \"Mozilla/5.0 (Windows NT 10.0; Win64; x64) AppleWebKit/537.36 (KHTML, like Gecko) Chrome/111.0.0.0 Safari/537.36\", \"Accept-Encoding\":\"gzip, deflate\", \"Accept\":\"text/html,application/xhtml+xml,application/xml;q=0.9,*/*;q=0.8\", \"DNT\":\"1\",\"Connection\":\"close\", \"Upgrade-Insecure-Requests\":\"1\"}\n",
    "\n",
    "    page = rq.get(URL, headers=headers)\n",
    "\n",
    "    soup1 = BS(page.content, \"html.parser\")\n",
    "    soup2 = BS(soup1.prettify(), 'html.parser')\n",
    "\n",
    "    title = soup2.find(id='productTitle').get_text()\n",
    "    review = soup2.find(id='acrCustomerReviewText').get_text()\n",
    "    ratings = soup2.find(class_=\"a-icon a-icon-star a-star-4-5\").get_text()\n",
    "    price = soup2.find(class_=\"a-offscreen\").get_text()\n",
    "    savings = soup2.find(class_=\"a-size-large a-color-price savingPriceOverride aok-align-center reinventPriceSavingsPercentageMargin savingsPercentage\").get_text()\n",
    "\n",
    "    title = title.strip()\n",
    "    review = review.strip()\n",
    "    ratings = ratings.strip()\n",
    "    price = price.strip()\n",
    "    savings = savings.strip()\n",
    "    \n",
    "    today = datetime.date.today()\n",
    "    \n",
    "    header = ['Title','Price','Savings','Ratings','Review','Date']\n",
    "    data = [title, price, savings, ratings, review, today]\n",
    "    \n",
    "    with open('AmazonWebScrapper_Dataset.csv','a+',newline='',encoding='UTF8') as f:\n",
    "        writer = csv.writer(f)\n",
    "        writer.writerow(data)\n",
    "        \n",
    "# This is everything we need and now it has to be on a timer (every 24h)"
   ]
  },
  {
   "cell_type": "code",
   "execution_count": null,
   "id": "1a1e563c",
   "metadata": {},
   "outputs": [],
   "source": [
    "while(True):\n",
    "    check_price()\n",
    "    time.sleep(86400)"
   ]
  },
  {
   "cell_type": "code",
   "execution_count": null,
   "id": "b6a75abd",
   "metadata": {},
   "outputs": [],
   "source": []
  }
 ],
 "metadata": {
  "kernelspec": {
   "display_name": "Python 3 (ipykernel)",
   "language": "python",
   "name": "python3"
  },
  "language_info": {
   "codemirror_mode": {
    "name": "ipython",
    "version": 3
   },
   "file_extension": ".py",
   "mimetype": "text/x-python",
   "name": "python",
   "nbconvert_exporter": "python",
   "pygments_lexer": "ipython3",
   "version": "3.9.13"
  }
 },
 "nbformat": 4,
 "nbformat_minor": 5
}
